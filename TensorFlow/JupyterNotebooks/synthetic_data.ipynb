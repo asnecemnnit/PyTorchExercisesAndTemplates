{
 "cells": [
  {
   "cell_type": "code",
   "execution_count": null,
   "metadata": {},
   "outputs": [],
   "source": [
    "import tensorflow as tf\n",
    "import numpy as np"
   ]
  },
  {
   "cell_type": "code",
   "execution_count": null,
   "metadata": {},
   "outputs": [],
   "source": [
    "class SyntheticDataset(tf.keras.utils.Sequence):\n",
    "    def __init__(self, num_samples, input_dim, output_dim, batch_size):\n",
    "        self.num_samples = num_samples\n",
    "        self.input_dim = input_dim\n",
    "        self.output_dim = output_dim\n",
    "        self.batch_size = batch_size\n",
    "\n",
    "        # Generate synthetic data\n",
    "        self.inputs = np.random.rand(self.num_samples, self.input_dim).astype(\n",
    "            np.float32\n",
    "        )\n",
    "        self.targets = np.random.rand(self.num_samples, self.output_dim).astype(\n",
    "            np.float32\n",
    "        )\n",
    "\n",
    "    def __len__(self):\n",
    "        return int(np.ceil(self.num_samples / self.batch_size))\n",
    "\n",
    "    def __getitem__(self, idx):\n",
    "        start_idx = idx * self.batch_size\n",
    "        end_idx = min((idx + 1) * self.batch_size, self.num_samples)\n",
    "        batch_inputs = self.inputs[start_idx:end_idx]\n",
    "        batch_targets = self.targets[start_idx:end_idx]\n",
    "        return batch_inputs, batch_targets"
   ]
  },
  {
   "cell_type": "code",
   "execution_count": null,
   "metadata": {},
   "outputs": [],
   "source": [
    "# Example usage:\n",
    "batch_size = 32\n",
    "dataset = SyntheticDataset(\n",
    "    num_samples=1000, input_dim=10, output_dim=1, batch_size=batch_size\n",
    ")\n",
    "\n",
    "dataloader = tf.data.Dataset.from_tensor_slices((dataset.inputs, dataset.targets))\n",
    "dataloader = dataloader.shuffle(buffer_size=len(dataset)).batch(batch_size)\n",
    "for inputs, targets in dataloader:\n",
    "    print(inputs, targets)"
   ]
  }
 ],
 "metadata": {
  "kernelspec": {
   "display_name": "Python (ValeoML)",
   "language": "python",
   "name": "valeoml"
  },
  "language_info": {
   "codemirror_mode": {
    "name": "ipython",
    "version": 3
   },
   "file_extension": ".py",
   "mimetype": "text/x-python",
   "name": "python",
   "nbconvert_exporter": "python",
   "pygments_lexer": "ipython3",
   "version": "3.8.17"
  }
 },
 "nbformat": 4,
 "nbformat_minor": 2
}
