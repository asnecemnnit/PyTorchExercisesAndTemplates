{
 "cells": [
  {
   "cell_type": "code",
   "execution_count": null,
   "metadata": {},
   "outputs": [],
   "source": [
    "import torch\n",
    "from torch.utils.data import Dataset, DataLoader\n",
    "import numpy as np"
   ]
  },
  {
   "cell_type": "code",
   "execution_count": null,
   "metadata": {},
   "outputs": [],
   "source": [
    "class SyntheticDataset(Dataset):\n",
    "    def __init__(self, num_samples=1000, input_dim=10, output_dim=1, seed=42):\n",
    "        self.num_samples = num_samples\n",
    "        self.input_dim = input_dim\n",
    "        self.output_dim = output_dim\n",
    "\n",
    "        # Set seed for reproducibility\n",
    "        np.random.seed(seed)\n",
    "\n",
    "        # Generate synthetic data\n",
    "        self.inputs = np.random.rand(num_samples, input_dim).astype(np.float32)\n",
    "        self.targets = np.random.rand(num_samples, output_dim).astype(np.float32)\n",
    "\n",
    "    def __len__(self):\n",
    "        return self.num_samples\n",
    "\n",
    "    def __getitem__(self, idx):\n",
    "        return torch.from_numpy(self.inputs[idx]), torch.from_numpy(self.targets[idx])"
   ]
  },
  {
   "cell_type": "code",
   "execution_count": null,
   "metadata": {},
   "outputs": [],
   "source": [
    "# Example usage:\n",
    "\n",
    "# Dataset class object.\n",
    "# Equivalent to Sequence class object in TensorFlow.\n",
    "dataset = SyntheticDataset(num_samples=1000, input_dim=10, output_dim=1)\n",
    "\n",
    "# batch_size is set here\n",
    "batch_size = 32\n",
    "\n",
    "# Data loader. Combines a dataset and a sampler, and provides an iterable over\n",
    "# the given dataset.\n",
    "# dataset (Dataset): dataset from which to load the data.\n",
    "# batch_size (int, optional): how many samples per batch to load\n",
    "#                             (default: ``1``).\n",
    "# shuffle (bool, optional): set to ``True`` to have the data reshuffled\n",
    "#                           at every epoch (default: ``False``).\n",
    "dataloader = DataLoader(dataset, batch_size=batch_size, shuffle=True)\n",
    "\n",
    "for inputs, targets in dataloader:\n",
    "    print(inputs, targets)"
   ]
  }
 ],
 "metadata": {
  "kernelspec": {
   "display_name": "Python (ValeoML)",
   "language": "python",
   "name": "valeoml"
  },
  "language_info": {
   "codemirror_mode": {
    "name": "ipython",
    "version": 3
   },
   "file_extension": ".py",
   "mimetype": "text/x-python",
   "name": "python",
   "nbconvert_exporter": "python",
   "pygments_lexer": "ipython3",
   "version": "3.8.17"
  }
 },
 "nbformat": 4,
 "nbformat_minor": 2
}
