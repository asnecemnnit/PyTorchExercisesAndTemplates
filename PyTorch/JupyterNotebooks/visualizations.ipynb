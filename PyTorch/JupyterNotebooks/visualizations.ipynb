{
 "cells": [
  {
   "attachments": {},
   "cell_type": "markdown",
   "metadata": {},
   "source": [
    "# Matplotlib and Seaborn based visualizations\n",
    "|   Matplotlib  |   Seaborn |\n",
    "|   ----------- |   ----------- |\n",
    "|   It is used for basic graph plotting like line charts,  bar graphs, etc. |  It is mainly used for statistics visualization and can perform complex visualizations with fewer commands.  |\n",
    "|   It mainly works with datasets and arrays.   |   It works with entire datasets.  |\n",
    "|   Seaborn is considerably more organized and functional than Matplotlib and treats the entire dataset as a solitary unit. |   Matplotlib acts productively with data arrays and frames. It regards the aces and figures as objects.   |\n",
    "|   Seaborn has more inbuilt themes and is mainly used for statistical analysis.    |   Matplotlib is more customizable and pairs well with Pandas and Numpy for Exploratory Data Analysis. |"
   ]
  },
  {
   "attachments": {},
   "cell_type": "markdown",
   "metadata": {},
   "source": [
    "## Line Charts"
   ]
  },
  {
   "attachments": {},
   "cell_type": "markdown",
   "metadata": {},
   "source": [
    "### matplotlib and seaborn"
   ]
  },
  {
   "cell_type": "code",
   "execution_count": null,
   "metadata": {},
   "outputs": [],
   "source": [
    "import torch\n",
    "import numpy as np\n",
    "import matplotlib.pyplot as plt\n",
    "import seaborn as sns"
   ]
  },
  {
   "cell_type": "code",
   "execution_count": null,
   "metadata": {},
   "outputs": [],
   "source": [
    "device = \"cuda\" if torch.cuda.is_available() else \"cpu\""
   ]
  },
  {
   "cell_type": "code",
   "execution_count": null,
   "metadata": {},
   "outputs": [],
   "source": [
    "y = torch.randn(10) * 10\n",
    "print(y)\n",
    "x = torch.arange(10)\n",
    "print(x.shape, y.shape)\n",
    "\n",
    "plt.xlabel(\"x\")\n",
    "plt.ylabel(\"y\")\n",
    "plt.plot(x.numpy(), y.numpy())"
   ]
  },
  {
   "cell_type": "code",
   "execution_count": null,
   "metadata": {},
   "outputs": [],
   "source": [
    "z = torch.randn(10) * 10\n",
    "plt.xlabel(\"x\")\n",
    "plt.ylabel(\"y, z\")\n",
    "plt.plot(x.numpy(), y.numpy())\n",
    "plt.plot(x.numpy(), z.numpy())\n",
    "plt.title(\"y, z vs x\")\n",
    "plt.legend([\"y\", \"z\"])"
   ]
  },
  {
   "cell_type": "code",
   "execution_count": null,
   "metadata": {},
   "outputs": [],
   "source": [
    "plt.figure(figsize=(10, 8))\n",
    "\n",
    "plt.plot(y, marker=\"o\")"
   ]
  },
  {
   "cell_type": "code",
   "execution_count": null,
   "metadata": {},
   "outputs": [],
   "source": [
    "sns.set_style(\"whitegrid\")\n",
    "plt.xlabel(\"x\")\n",
    "plt.ylabel(\"y, z\")\n",
    "plt.plot(x.numpy(), y.numpy(), marker=\"x\")\n",
    "plt.plot(x.numpy(), z.numpy(), marker=\"o\")\n",
    "plt.title(\"y, z vs x\")\n",
    "plt.legend([\"y\", \"z\"])"
   ]
  },
  {
   "cell_type": "code",
   "execution_count": null,
   "metadata": {},
   "outputs": [],
   "source": [
    "sns.set_style(\"darkgrid\")\n",
    "plt.xlabel(\"x\")\n",
    "plt.ylabel(\"y, z\")\n",
    "plt.plot(x.numpy(), y.numpy(), marker=\"x\")\n",
    "plt.plot(x.numpy(), z.numpy(), marker=\"o\")\n",
    "plt.title(\"y, z vs x\")\n",
    "plt.legend([\"y\", \"z\"])"
   ]
  },
  {
   "attachments": {},
   "cell_type": "markdown",
   "metadata": {},
   "source": [
    "## Bar Graphs"
   ]
  },
  {
   "attachments": {},
   "cell_type": "markdown",
   "metadata": {},
   "source": [
    "### matplotlib and seaborn"
   ]
  },
  {
   "cell_type": "code",
   "execution_count": null,
   "metadata": {},
   "outputs": [],
   "source": [
    "plt.bar(x, y)"
   ]
  },
  {
   "cell_type": "code",
   "execution_count": null,
   "metadata": {},
   "outputs": [],
   "source": [
    "plt.bar(x, z)"
   ]
  },
  {
   "cell_type": "code",
   "execution_count": null,
   "metadata": {},
   "outputs": [],
   "source": [
    "plt.bar(x, z)\n",
    "plt.bar(x, y, bottom=z)"
   ]
  },
  {
   "cell_type": "code",
   "execution_count": null,
   "metadata": {},
   "outputs": [],
   "source": [
    "plt.bar(x, y)\n",
    "plt.bar(x, z, bottom=y)"
   ]
  },
  {
   "cell_type": "code",
   "execution_count": null,
   "metadata": {},
   "outputs": [],
   "source": [
    "tips_df = sns.load_dataset(\"tips\")\n",
    "tips_df"
   ]
  },
  {
   "cell_type": "code",
   "execution_count": null,
   "metadata": {},
   "outputs": [],
   "source": [
    "sns.barplot(x=\"day\", y=\"total_bill\", data=tips_df)"
   ]
  },
  {
   "cell_type": "code",
   "execution_count": null,
   "metadata": {},
   "outputs": [],
   "source": [
    "sns.barplot(x=\"day\", y=\"total_bill\", hue=\"sex\", data=tips_df)"
   ]
  },
  {
   "cell_type": "code",
   "execution_count": null,
   "metadata": {},
   "outputs": [],
   "source": [
    "sns.barplot(x=\"day\", y=\"total_bill\", hue=\"smoker\", data=tips_df)"
   ]
  },
  {
   "cell_type": "code",
   "execution_count": null,
   "metadata": {},
   "outputs": [],
   "source": [
    "sns.barplot(x=\"total_bill\", y=\"day\", hue=\"sex\", data=tips_df)"
   ]
  },
  {
   "attachments": {},
   "cell_type": "markdown",
   "metadata": {},
   "source": [
    "## Histograms"
   ]
  },
  {
   "attachments": {},
   "cell_type": "markdown",
   "metadata": {},
   "source": [
    "### matplotlib seaborn"
   ]
  },
  {
   "cell_type": "code",
   "execution_count": null,
   "metadata": {},
   "outputs": [],
   "source": [
    "flower_df = sns.load_dataset(\"iris\")\n",
    "flower_df"
   ]
  },
  {
   "cell_type": "code",
   "execution_count": null,
   "metadata": {},
   "outputs": [],
   "source": [
    "flower_df.sepal_length"
   ]
  },
  {
   "cell_type": "code",
   "execution_count": null,
   "metadata": {},
   "outputs": [],
   "source": [
    "plt.title(\"Distribution of Sepal Length\")\n",
    "plt.hist(flower_df.sepal_length)"
   ]
  },
  {
   "cell_type": "code",
   "execution_count": null,
   "metadata": {},
   "outputs": [],
   "source": [
    "plt.hist(flower_df.sepal_length, bins=4)"
   ]
  },
  {
   "cell_type": "code",
   "execution_count": null,
   "metadata": {},
   "outputs": [],
   "source": [
    "plt.hist(flower_df.sepal_length, bins=np.arange(3, 10, 0.5))"
   ]
  },
  {
   "cell_type": "code",
   "execution_count": null,
   "metadata": {},
   "outputs": [],
   "source": [
    "print(set(flower_df.species))\n",
    "print(min(set(flower_df.sepal_length)), max(set(flower_df.sepal_length)))\n",
    "setosa_df = flower_df[flower_df.species == \"setosa\"]\n",
    "virginica_df = flower_df[flower_df.species == \"virginica\"]\n",
    "versicolor_df = flower_df[flower_df.species == \"versicolor\"]\n",
    "\n",
    "plt.hist(setosa_df.sepal_length, alpha=0.3, bins=np.arange(4, 8, 0.25))\n",
    "plt.hist(virginica_df.sepal_length, alpha=0.3, bins=np.arange(4, 8, 0.25))\n",
    "plt.hist(versicolor_df.sepal_length, alpha=0.3, bins=np.arange(4, 8, 0.25))"
   ]
  },
  {
   "cell_type": "code",
   "execution_count": null,
   "metadata": {},
   "outputs": [],
   "source": [
    "plt.title(\"Distribution of Sepal Length\")\n",
    "plt.hist(\n",
    "    [setosa_df.sepal_length, versicolor_df.sepal_length, virginica_df.sepal_length],\n",
    "    bins=np.arange(4, 8, 0.25),\n",
    "    stacked=True,\n",
    ")\n",
    "plt.legend([\"setosa\", \"versicolor\", \"virginica\"])"
   ]
  },
  {
   "attachments": {},
   "cell_type": "markdown",
   "metadata": {},
   "source": [
    "### opencv"
   ]
  },
  {
   "cell_type": "code",
   "execution_count": null,
   "metadata": {},
   "outputs": [],
   "source": [
    "import cv2 as cv"
   ]
  },
  {
   "cell_type": "code",
   "execution_count": null,
   "metadata": {},
   "outputs": [],
   "source": [
    "home_image_path = \"../../images/home.jpg\"\n",
    "img = cv.imread(home_image_path, cv.IMREAD_GRAYSCALE)\n",
    "assert img is not None, \"file could not be read, check with os.path.exists()\"\n",
    "hist = cv.calcHist([img], [0], None, [256], [0, 256])\n",
    "hist.shape"
   ]
  },
  {
   "cell_type": "code",
   "execution_count": null,
   "metadata": {},
   "outputs": [],
   "source": [
    "hist, bins = np.histogram(img.ravel(), 256, [0, 256])\n",
    "hist.shape"
   ]
  },
  {
   "attachments": {},
   "cell_type": "markdown",
   "metadata": {},
   "source": [
    "#### Using matplotlib directly to show historgam"
   ]
  },
  {
   "cell_type": "code",
   "execution_count": null,
   "metadata": {},
   "outputs": [],
   "source": [
    "plt.hist(img.ravel(), 256, [0, 256])\n",
    "plt.show()"
   ]
  },
  {
   "attachments": {},
   "cell_type": "markdown",
   "metadata": {},
   "source": [
    "#### Using opencv and matplotlib to show historgam of individual rgb channel"
   ]
  },
  {
   "cell_type": "code",
   "execution_count": null,
   "metadata": {},
   "outputs": [],
   "source": [
    "img = cv.imread(home_image_path)\n",
    "color = (\"b\", \"g\", \"r\")\n",
    "for i, col in enumerate(color):\n",
    "    histr = cv.calcHist([img], [i], None, [256], [0, 256])\n",
    "    plt.plot(histr, color=col)\n",
    "    plt.xlim([0, 256])\n",
    "plt.show()"
   ]
  },
  {
   "cell_type": "code",
   "execution_count": null,
   "metadata": {},
   "outputs": [],
   "source": [
    "img = cv.imread(home_image_path, cv.IMREAD_GRAYSCALE)\n",
    "assert img is not None, \"file could not be read, check with os.path.exists()\"\n",
    "# create a mask\n",
    "mask = np.zeros(img.shape[:2], np.uint8)\n",
    "mask[100:300, 100:400] = 255\n",
    "masked_img = cv.bitwise_and(img, img, mask=mask)\n",
    "# Calculate histogram with mask and without mask\n",
    "# Check third argument for mask\n",
    "hist_full = cv.calcHist([img], [0], None, [256], [0, 256])\n",
    "hist_mask = cv.calcHist([img], [0], mask, [256], [0, 256])\n",
    "plt.subplot(221), plt.imshow(img, \"gray\")\n",
    "plt.subplot(222), plt.imshow(mask, \"gray\")\n",
    "plt.subplot(223), plt.imshow(masked_img, \"gray\")\n",
    "plt.subplot(224), plt.plot(hist_full), plt.plot(hist_mask)\n",
    "plt.xlim([0, 256])\n",
    "plt.show()"
   ]
  },
  {
   "cell_type": "markdown",
   "metadata": {},
   "source": [
    "#### 2D Histogram in opencv"
   ]
  },
  {
   "cell_type": "code",
   "execution_count": null,
   "metadata": {},
   "outputs": [],
   "source": [
    "img = cv.imread(home_image_path)\n",
    "assert img is not None, \"file could not be read, check with os.path.exists()\"\n",
    "hsv = cv.cvtColor(img, cv.COLOR_BGR2HSV)\n",
    "hist = cv.calcHist([hsv], [0, 1], None, [180, 256], [0, 180, 0, 256])\n",
    "hist.shape"
   ]
  },
  {
   "cell_type": "code",
   "execution_count": null,
   "metadata": {},
   "outputs": [],
   "source": [
    "# commenting as it is causing kernel to crash\n",
    "# cv.imshow(\"histogram\", hist)\n",
    "# cv.waitKey(0)"
   ]
  },
  {
   "attachments": {},
   "cell_type": "markdown",
   "metadata": {},
   "source": [
    "#### 2D Histogram in numpy"
   ]
  },
  {
   "cell_type": "code",
   "execution_count": null,
   "metadata": {},
   "outputs": [],
   "source": [
    "img = cv.imread(home_image_path)\n",
    "assert img is not None, \"file could not be read, check with os.path.exists()\"\n",
    "hsv = cv.cvtColor(img, cv.COLOR_BGR2HSV)\n",
    "hue = hsv[:, :, 0]\n",
    "sat = hsv[:, :, 1]\n",
    "hist, xbins, ybins = np.histogram2d(\n",
    "    hue.ravel(), sat.ravel(), [180, 256], [[0, 180], [0, 256]]\n",
    ")\n",
    "hist.shape"
   ]
  },
  {
   "cell_type": "code",
   "execution_count": null,
   "metadata": {},
   "outputs": [],
   "source": [
    "plt.imshow(hist, interpolation=\"nearest\")\n",
    "plt.show()"
   ]
  },
  {
   "attachments": {},
   "cell_type": "markdown",
   "metadata": {},
   "source": [
    "## Scatter Plots"
   ]
  },
  {
   "attachments": {},
   "cell_type": "markdown",
   "metadata": {},
   "source": [
    "### matplotlib and seaborn"
   ]
  },
  {
   "cell_type": "code",
   "execution_count": null,
   "metadata": {},
   "outputs": [],
   "source": [
    "flowers_df = sns.load_dataset(\"iris\")\n",
    "flower_df.species.unique()"
   ]
  },
  {
   "cell_type": "code",
   "execution_count": null,
   "metadata": {},
   "outputs": [],
   "source": [
    "sns.scatterplot(x=flower_df.sepal_length, y=flower_df.sepal_width)"
   ]
  },
  {
   "cell_type": "code",
   "execution_count": null,
   "metadata": {},
   "outputs": [],
   "source": [
    "sns.scatterplot(\n",
    "    x=flower_df.sepal_length, y=flower_df.sepal_width, hue=flower_df.species\n",
    ")"
   ]
  },
  {
   "cell_type": "code",
   "execution_count": null,
   "metadata": {},
   "outputs": [],
   "source": [
    "plt.figure(figsize=(10, 8))\n",
    "plt.title(\"Sepal Dimensions\")\n",
    "\n",
    "sns.scatterplot(\n",
    "    x=flower_df.sepal_length, y=flower_df.sepal_width, hue=flower_df.species, s=100\n",
    ")"
   ]
  },
  {
   "attachments": {},
   "cell_type": "markdown",
   "metadata": {},
   "source": [
    "## Heat Maps"
   ]
  },
  {
   "cell_type": "code",
   "execution_count": null,
   "metadata": {},
   "outputs": [],
   "source": [
    "flights_df = sns.load_dataset(\"flights\")\n",
    "flights_df"
   ]
  },
  {
   "cell_type": "code",
   "execution_count": null,
   "metadata": {},
   "outputs": [],
   "source": [
    "flights_df = flights_df.pivot(index=\"month\", columns=\"year\", values=\"passengers\")\n",
    "flights_df"
   ]
  },
  {
   "cell_type": "code",
   "execution_count": null,
   "metadata": {},
   "outputs": [],
   "source": [
    "plt.title(\"Number of Passengers (1000s)\")\n",
    "sns.heatmap(flights_df)"
   ]
  },
  {
   "cell_type": "code",
   "execution_count": null,
   "metadata": {},
   "outputs": [],
   "source": [
    "plt.title(\"Number of Passengers (1000s)\")\n",
    "sns.heatmap(flights_df, fmt=\"d\", annot=True, cmap=\"Blues\")"
   ]
  }
 ],
 "metadata": {
  "kernelspec": {
   "display_name": "Python (ValeoML)",
   "language": "python",
   "name": "valeoml"
  },
  "language_info": {
   "codemirror_mode": {
    "name": "ipython",
    "version": 3
   },
   "file_extension": ".py",
   "mimetype": "text/x-python",
   "name": "python",
   "nbconvert_exporter": "python",
   "pygments_lexer": "ipython3",
   "version": "3.8.17"
  },
  "orig_nbformat": 4,
  "vscode": {
   "interpreter": {
    "hash": "93bf447d1c99ef97d0a581a6b1613ec5f4169b443f309f05a70970be609eff92"
   }
  }
 },
 "nbformat": 4,
 "nbformat_minor": 2
}
